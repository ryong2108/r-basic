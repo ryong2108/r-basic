{
 "cells": [
  {
   "cell_type": "markdown",
   "id": "27d424ea",
   "metadata": {},
   "source": [
    "# variables de entrada y salida"
   ]
  },
  {
   "cell_type": "code",
   "execution_count": 1,
   "id": "3029e97c",
   "metadata": {},
   "outputs": [
    {
     "name": "stdout",
     "output_type": "stream",
     "text": [
      "HOLA ME LLAMO RAUL YONG\n"
     ]
    }
   ],
   "source": [
    "print(\"HOLA ME LLAMO RAUL YONG\")"
   ]
  },
  {
   "cell_type": "code",
   "execution_count": 2,
   "id": "2a461ecf",
   "metadata": {},
   "outputs": [],
   "source": [
    "X = 21"
   ]
  },
  {
   "cell_type": "code",
   "execution_count": 3,
   "id": "68147228",
   "metadata": {},
   "outputs": [
    {
     "ename": "NameError",
     "evalue": "name 'PRINT' is not defined",
     "output_type": "error",
     "traceback": [
      "\u001b[1;31m---------------------------------------------------------------------------\u001b[0m",
      "\u001b[1;31mNameError\u001b[0m                                 Traceback (most recent call last)",
      "\u001b[1;32m~\\AppData\\Local\\Temp/ipykernel_22892/1465380559.py\u001b[0m in \u001b[0;36m<module>\u001b[1;34m\u001b[0m\n\u001b[1;32m----> 1\u001b[1;33m \u001b[0mPRINT\u001b[0m\u001b[1;33m(\u001b[0m\u001b[0mX\u001b[0m\u001b[1;33m)\u001b[0m\u001b[1;33m\u001b[0m\u001b[1;33m\u001b[0m\u001b[0m\n\u001b[0m",
      "\u001b[1;31mNameError\u001b[0m: name 'PRINT' is not defined"
     ]
    }
   ],
   "source": [
    "PRINT(X)"
   ]
  },
  {
   "cell_type": "code",
   "execution_count": 5,
   "id": "5c514b75",
   "metadata": {},
   "outputs": [
    {
     "name": "stdout",
     "output_type": "stream",
     "text": [
      "21\n"
     ]
    }
   ],
   "source": [
    "print(X)"
   ]
  },
  {
   "cell_type": "code",
   "execution_count": 8,
   "id": "dad46227",
   "metadata": {},
   "outputs": [
    {
     "name": "stdout",
     "output_type": "stream",
     "text": [
      "El nro de la variable X es :21\n"
     ]
    }
   ],
   "source": [
    "print(\"El nro de la variable X es :\"+str(X))"
   ]
  },
  {
   "cell_type": "code",
   "execution_count": 9,
   "id": "549c5f68",
   "metadata": {},
   "outputs": [
    {
     "name": "stdout",
     "output_type": "stream",
     "text": [
      "Mi nombre es :raul yong\n"
     ]
    }
   ],
   "source": [
    "texto = input(\"Mi nombre es :\")"
   ]
  },
  {
   "cell_type": "code",
   "execution_count": 10,
   "id": "9bb87ebd",
   "metadata": {},
   "outputs": [
    {
     "data": {
      "text/plain": [
       "'raul yong'"
      ]
     },
     "execution_count": 10,
     "metadata": {},
     "output_type": "execute_result"
    }
   ],
   "source": [
    "texto"
   ]
  },
  {
   "cell_type": "code",
   "execution_count": 11,
   "id": "e8a6dad0",
   "metadata": {},
   "outputs": [
    {
     "name": "stdout",
     "output_type": "stream",
     "text": [
      "raul yong\n"
     ]
    }
   ],
   "source": [
    "print(texto)"
   ]
  },
  {
   "cell_type": "code",
   "execution_count": 12,
   "id": "fb1b3534",
   "metadata": {},
   "outputs": [
    {
     "name": "stdout",
     "output_type": "stream",
     "text": [
      "Mi edad es :21\n"
     ]
    }
   ],
   "source": [
    "texto = str(input(\"Mi edad es :\"))"
   ]
  },
  {
   "cell_type": "code",
   "execution_count": 13,
   "id": "eb8c1a39",
   "metadata": {},
   "outputs": [
    {
     "data": {
      "text/plain": [
       "'21'"
      ]
     },
     "execution_count": 13,
     "metadata": {},
     "output_type": "execute_result"
    }
   ],
   "source": [
    "texto"
   ]
  },
  {
   "cell_type": "code",
   "execution_count": 15,
   "id": "33218962",
   "metadata": {},
   "outputs": [
    {
     "data": {
      "text/plain": [
       "'212121'"
      ]
     },
     "execution_count": 15,
     "metadata": {},
     "output_type": "execute_result"
    }
   ],
   "source": [
    "texto*3"
   ]
  },
  {
   "cell_type": "code",
   "execution_count": 17,
   "id": "ab6e79a5",
   "metadata": {},
   "outputs": [
    {
     "name": "stdout",
     "output_type": "stream",
     "text": [
      "Mi año de nacimiento es :1973\n"
     ]
    }
   ],
   "source": [
    "texto2=int(input(\"Mi año de nacimiento es :\"))"
   ]
  },
  {
   "cell_type": "code",
   "execution_count": 18,
   "id": "4c7e58b0",
   "metadata": {},
   "outputs": [
    {
     "data": {
      "text/plain": [
       "1973"
      ]
     },
     "execution_count": 18,
     "metadata": {},
     "output_type": "execute_result"
    }
   ],
   "source": [
    "texto2"
   ]
  },
  {
   "cell_type": "code",
   "execution_count": 20,
   "id": "d54a581b",
   "metadata": {},
   "outputs": [
    {
     "data": {
      "text/plain": [
       "3892729"
      ]
     },
     "execution_count": 20,
     "metadata": {},
     "output_type": "execute_result"
    }
   ],
   "source": [
    "texto22"
   ]
  },
  {
   "cell_type": "code",
   "execution_count": 24,
   "id": "4baa5c3a",
   "metadata": {},
   "outputs": [
    {
     "data": {
      "text/plain": [
       "0"
      ]
     },
     "execution_count": 24,
     "metadata": {},
     "output_type": "execute_result"
    }
   ],
   "source": [
    "texto2%1973"
   ]
  },
  {
   "cell_type": "code",
   "execution_count": 22,
   "id": "b5ced199",
   "metadata": {},
   "outputs": [
    {
     "data": {
      "text/plain": [
       "2"
      ]
     },
     "execution_count": 22,
     "metadata": {},
     "output_type": "execute_result"
    }
   ],
   "source": [
    "7//3"
   ]
  },
  {
   "cell_type": "code",
   "execution_count": 23,
   "id": "5f2694b4",
   "metadata": {},
   "outputs": [
    {
     "data": {
      "text/plain": [
       "1"
      ]
     },
     "execution_count": 23,
     "metadata": {},
     "output_type": "execute_result"
    }
   ],
   "source": [
    "7%3"
   ]
  },
  {
   "cell_type": "code",
   "execution_count": 25,
   "id": "53e88268",
   "metadata": {},
   "outputs": [
    {
     "data": {
      "text/plain": [
       "1"
      ]
     },
     "execution_count": 25,
     "metadata": {},
     "output_type": "execute_result"
    }
   ],
   "source": [
    "texto2//1973"
   ]
  },
  {
   "cell_type": "markdown",
   "id": "6c8c0571",
   "metadata": {},
   "source": [
    "# Operadores de Decision"
   ]
  },
  {
   "cell_type": "code",
   "execution_count": null,
   "id": "213dd681",
   "metadata": {},
   "outputs": [],
   "source": [
    "si condicion boolena\n",
    "    codigo que se ejcuta si la condicion es verdad\n",
    "        :\n",
    "        :\n",
    "codigo que se ejecuta siempre"
   ]
  },
  {
   "cell_type": "code",
   "execution_count": 67,
   "id": "131eda3e",
   "metadata": {},
   "outputs": [
    {
     "name": "stdout",
     "output_type": "stream",
     "text": [
      "Ingresa un Nro :21\n"
     ]
    }
   ],
   "source": [
    "x = int(input(\"Ingresa un Nro :\"))\n",
    "  \n"
   ]
  },
  {
   "cell_type": "code",
   "execution_count": null,
   "id": "19371f8b",
   "metadata": {},
   "outputs": [],
   "source": []
  },
  {
   "cell_type": "code",
   "execution_count": 76,
   "id": "4a138505",
   "metadata": {},
   "outputs": [
    {
     "name": "stdout",
     "output_type": "stream",
     "text": [
      "Ingresa un Nro :-5\n",
      "tu nro ingresado no es 5 y no es mayor a 10\n"
     ]
    }
   ],
   "source": [
    "x = int(input(\"Ingresa un Nro :\")) \n",
    "if x == 5:\n",
    "        print(\"tu nro es 5\")\n",
    "elif x > 10:\n",
    "        print(\"Nro ingresado es mayor a 10 \")\n",
    "else :\n",
    "        print(\"tu nro ingresado no es 5 y no es mayor a 10\")"
   ]
  },
  {
   "cell_type": "code",
   "execution_count": 80,
   "id": "5f6ee5d2",
   "metadata": {},
   "outputs": [
    {
     "name": "stdout",
     "output_type": "stream",
     "text": [
      "Ingresa un Nro :5\n",
      "El nro ingresado esta entre 5 y 15\n"
     ]
    }
   ],
   "source": [
    "z = int(input(\"Ingresa un Nro :\")) \n",
    "if  z >= 5 and z <= 15:\n",
    "    print(\"El nro ingresado esta entre 5 y 15\")"
   ]
  },
  {
   "cell_type": "code",
   "execution_count": null,
   "id": "ee6f3ada",
   "metadata": {},
   "outputs": [],
   "source": []
  },
  {
   "cell_type": "code",
   "execution_count": null,
   "id": "effe12e6",
   "metadata": {},
   "outputs": [],
   "source": []
  },
  {
   "cell_type": "code",
   "execution_count": null,
   "id": "a7cd45cc",
   "metadata": {},
   "outputs": [],
   "source": []
  },
  {
   "cell_type": "code",
   "execution_count": null,
   "id": "c8174c31",
   "metadata": {},
   "outputs": [],
   "source": []
  },
  {
   "cell_type": "code",
   "execution_count": null,
   "id": "49c1bbbb",
   "metadata": {},
   "outputs": [],
   "source": []
  },
  {
   "cell_type": "code",
   "execution_count": 81,
   "id": "57c8a4cd",
   "metadata": {},
   "outputs": [
    {
     "name": "stdout",
     "output_type": "stream",
     "text": [
      "hola\n"
     ]
    }
   ],
   "source": [
    "print (\"hola\")"
   ]
  },
  {
   "cell_type": "code",
   "execution_count": 84,
   "id": "6c32d704",
   "metadata": {},
   "outputs": [
    {
     "name": "stdout",
     "output_type": "stream",
     "text": [
      "Ingresa un nro :13\n",
      "13 -5\n"
     ]
    }
   ],
   "source": [
    "print (input(\"Ingresa un nro :\" ),x)"
   ]
  },
  {
   "cell_type": "code",
   "execution_count": 86,
   "id": "ad010868",
   "metadata": {},
   "outputs": [
    {
     "name": "stdout",
     "output_type": "stream",
     "text": [
      "-5\n"
     ]
    }
   ],
   "source": [
    "print (x)"
   ]
  },
  {
   "cell_type": "code",
   "execution_count": null,
   "id": "df8c234b",
   "metadata": {},
   "outputs": [],
   "source": []
  },
  {
   "cell_type": "code",
   "execution_count": null,
   "id": "5d7b8373",
   "metadata": {},
   "outputs": [],
   "source": []
  },
  {
   "cell_type": "code",
   "execution_count": null,
   "id": "474943b8",
   "metadata": {},
   "outputs": [],
   "source": []
  },
  {
   "cell_type": "code",
   "execution_count": null,
   "id": "f6e61f8f",
   "metadata": {},
   "outputs": [],
   "source": []
  },
  {
   "cell_type": "code",
   "execution_count": null,
   "id": "79e289c6",
   "metadata": {},
   "outputs": [],
   "source": []
  },
  {
   "cell_type": "code",
   "execution_count": null,
   "id": "0f8f6ed7",
   "metadata": {},
   "outputs": [],
   "source": []
  },
  {
   "cell_type": "code",
   "execution_count": null,
   "id": "60685935",
   "metadata": {},
   "outputs": [],
   "source": []
  },
  {
   "cell_type": "code",
   "execution_count": null,
   "id": "002f180b",
   "metadata": {},
   "outputs": [],
   "source": []
  },
  {
   "cell_type": "code",
   "execution_count": null,
   "id": "0514caa3",
   "metadata": {},
   "outputs": [],
   "source": []
  },
  {
   "cell_type": "code",
   "execution_count": null,
   "id": "f79f225e",
   "metadata": {},
   "outputs": [],
   "source": []
  },
  {
   "cell_type": "code",
   "execution_count": null,
   "id": "96d8ff32",
   "metadata": {},
   "outputs": [],
   "source": []
  },
  {
   "cell_type": "code",
   "execution_count": null,
   "id": "4b745de2",
   "metadata": {},
   "outputs": [],
   "source": []
  },
  {
   "cell_type": "code",
   "execution_count": null,
   "id": "5abff6da",
   "metadata": {},
   "outputs": [],
   "source": []
  }
 ],
 "metadata": {
  "kernelspec": {
   "display_name": "Python 3 (ipykernel)",
   "language": "python",
   "name": "python3"
  },
  "language_info": {
   "codemirror_mode": {
    "name": "ipython",
    "version": 3
   },
   "file_extension": ".py",
   "mimetype": "text/x-python",
   "name": "python",
   "nbconvert_exporter": "python",
   "pygments_lexer": "ipython3",
   "version": "3.8.11"
  }
 },
 "nbformat": 4,
 "nbformat_minor": 5
}
