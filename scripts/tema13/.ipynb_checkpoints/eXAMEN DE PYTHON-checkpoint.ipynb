{
 "cells": [
  {
   "cell_type": "code",
   "execution_count": 24,
   "id": "266a93a4",
   "metadata": {},
   "outputs": [
    {
     "name": "stdout",
     "output_type": "stream",
     "text": [
      "Ingresa Letra TABLERO AJEDREZ: H\n",
      "Ingresa Numero TABLERO AJEDREZ: 5\n",
      "CASILLA NEGRA\n"
     ]
    }
   ],
   "source": [
    "letra = str(input(\"Ingresa Letra TABLERO AJEDREZ: \"))\n",
    "numero = int(input(\"Ingresa Numero TABLERO AJEDREZ: \"))\n",
    "rangoletraImpar=(\"A\",\"C\",\"E\",\"G\")\n",
    "rangoletrapar=(\"B\",\"D\",\"F\",\"H\")\n",
    "rangonumeroimpar=(1,3,5,7)\n",
    "rangonumeropar=(2,4,6,8)\n",
    "if  (letra in rangoletraImpar and numero in rangonumeroimpar) or (letra in rangoletrapar and numero in rangonumeropar):\n",
    "        print(\"CASILLA BLANCA\")\n",
    "elif (letra in rangoletraImpar and numero in rangonumeropar) or (letra in rangoletrapar and numero in rangonumeroimpar):\n",
    "        print(\"CASILLA NEGRA\")\n",
    "else:\n",
    "        print(\"LETRA Y NUMERO INVALIDOS\")"
   ]
  },
  {
   "cell_type": "code",
   "execution_count": null,
   "id": "e290e976",
   "metadata": {},
   "outputs": [],
   "source": [
    "numero = int(input(\"Ingresa nro entero : \"))\n",
    "if (numero%4 == 0 and  numero%100 != 0) or (numero%4 == 0 and  numero%400 == 0):\n",
    "                print (\"Año bisciesto\")\n",
    "else:\n",
    "                print (\"No es Año bisciesto\")"
   ]
  },
  {
   "cell_type": "code",
   "execution_count": null,
   "id": "680ef102",
   "metadata": {},
   "outputs": [],
   "source": [
    "numero = int(input(\"Ingresa un numero real :\"))\n",
    "if numero >=-5 and numero <=5:\n",
    "            print(\"el nro ingresado esta Dentro del rango (-5 , 5)\")\n",
    "else:\n",
    "             print(\"el nro ingresado esta fuera del rango (-5 , 5)\")"
   ]
  },
  {
   "cell_type": "code",
   "execution_count": 45,
   "id": "69222033",
   "metadata": {},
   "outputs": [
    {
     "name": "stdout",
     "output_type": "stream",
     "text": [
      "Ingresa un numero real :1\n",
      "el nro ingresado es positivo\n"
     ]
    }
   ],
   "source": [
    "numero = int(input(\"Ingresa un numero real :\"))\n",
    "if numero < 0:\n",
    "     print(\"el nro ingresado es negativo\")\n",
    "elif numero >= 0:\n",
    "     print(\"el nro ingresado es positivo\")"
   ]
  },
  {
   "cell_type": "code",
   "execution_count": 70,
   "id": "120d4974",
   "metadata": {},
   "outputs": [],
   "source": [
    "class  operacion(object):\n",
    "        def cociente(self,x,y):\n",
    "                  self.resultado = x//y\n",
    "                  return  self.resultado\n",
    "        def resto(self,x,y):\n",
    "                  self.resultado = x%y\n",
    "                  return  self.resultado"
   ]
  },
  {
   "cell_type": "code",
   "execution_count": 74,
   "id": "052ccd4d",
   "metadata": {},
   "outputs": [
    {
     "data": {
      "text/plain": [
       "1"
      ]
     },
     "execution_count": 74,
     "metadata": {},
     "output_type": "execute_result"
    }
   ],
   "source": [
    "partedivision = operacion()\n",
    "partedivision.resto(7,3)"
   ]
  },
  {
   "cell_type": "code",
   "execution_count": 55,
   "id": "a4a0e652",
   "metadata": {},
   "outputs": [],
   "source": [
    "def oper(m,n):\n",
    "       return ( m+n,m-n)"
   ]
  },
  {
   "cell_type": "code",
   "execution_count": 51,
   "id": "397befc0",
   "metadata": {},
   "outputs": [
    {
     "data": {
      "text/plain": [
       "(3, -1)"
      ]
     },
     "execution_count": 51,
     "metadata": {},
     "output_type": "execute_result"
    }
   ],
   "source": [
    "oper(1,2)"
   ]
  },
  {
   "cell_type": "code",
   "execution_count": 57,
   "id": "fb5b36a0",
   "metadata": {},
   "outputs": [],
   "source": [
    "def sumdiv(a,b):\n",
    "    sumar = a+b\n",
    "    dividir = a/b\n",
    "    return (sumar,dividir)"
   ]
  },
  {
   "cell_type": "code",
   "execution_count": 58,
   "id": "51ba8696",
   "metadata": {},
   "outputs": [
    {
     "data": {
      "text/plain": [
       "(3, 0.5)"
      ]
     },
     "execution_count": 58,
     "metadata": {},
     "output_type": "execute_result"
    }
   ],
   "source": [
    "sumdiv(1,2)"
   ]
  },
  {
   "cell_type": "code",
   "execution_count": null,
   "id": "3354e631",
   "metadata": {},
   "outputs": [],
   "source": []
  },
  {
   "cell_type": "code",
   "execution_count": null,
   "id": "545c70ef",
   "metadata": {},
   "outputs": [],
   "source": []
  },
  {
   "cell_type": "code",
   "execution_count": null,
   "id": "d6c7c337",
   "metadata": {},
   "outputs": [],
   "source": []
  },
  {
   "cell_type": "code",
   "execution_count": null,
   "id": "356f2877",
   "metadata": {},
   "outputs": [],
   "source": []
  },
  {
   "cell_type": "code",
   "execution_count": null,
   "id": "82018702",
   "metadata": {},
   "outputs": [],
   "source": []
  },
  {
   "cell_type": "code",
   "execution_count": null,
   "id": "7d336a7f",
   "metadata": {},
   "outputs": [],
   "source": []
  }
 ],
 "metadata": {
  "kernelspec": {
   "display_name": "Python 3 (ipykernel)",
   "language": "python",
   "name": "python3"
  },
  "language_info": {
   "codemirror_mode": {
    "name": "ipython",
    "version": 3
   },
   "file_extension": ".py",
   "mimetype": "text/x-python",
   "name": "python",
   "nbconvert_exporter": "python",
   "pygments_lexer": "ipython3",
   "version": "3.8.11"
  }
 },
 "nbformat": 4,
 "nbformat_minor": 5
}
